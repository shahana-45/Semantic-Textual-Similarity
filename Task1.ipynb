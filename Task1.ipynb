{
 "cells": [
  {
   "cell_type": "markdown",
   "id": "7b44ee0f",
   "metadata": {},
   "source": [
    "## Introduction\n",
    "Semantic textual similarity deals with determining how similar a pair of text documents are. The goal of the first task is to implement a new architecture by combining the ideas from papers\n",
    "- Siamese Recurrent Architectures for Learning Sentence Similarity, Jonas Mueller et. al (will be referred as the AAAI paper)\n",
    "- A Structured Self-Attentive Sentence Embedding, Zhouhan Lin et. al (will be referred as the ICLR paper) <br/><br/>\n",
    "Furthermore, you'd be evaluating whether the new architecture improves the results of **Siamese Recurrent Architectures for Learning Sentence Similarity, Jonas Mueller et. al**. Your overall network architecture should look similar to the following figure. \n",
    "![Untitled%20Diagram.drawio%20%281%29.png](https://raw.githubusercontent.com/shahrukhx01/ocr-test/main/download.png)\n",
    "<br/><br/>\n",
    "\n",
    "\n",
    "Moreover, you'd be required to implement further helper functions that these papers propose i.e., attention penalty term for loss, etc."
   ]
  },
  {
   "cell_type": "markdown",
   "id": "cbed585c",
   "metadata": {},
   "source": [
    "### SICK dataset\n",
    "We will use SICK dataset throughout the project (at least in the first two tasks). To get more information about the dataset you can refer to the original [paper](http://www.lrec-conf.org/proceedings/lrec2014/pdf/363_Paper.pdf) on the dataset. You can download the dataset using one of the following links:\n",
    "- [dataset page 1](https://marcobaroni.org/composes/sick.html)\n",
    "- [dataset page 2](https://huggingface.co/datasets/sick)    \n",
    "\n",
    "The relevant columns for the project are `sentence_A`, `sentence_B`, `relatedness_score`, where `relatedness_score` is the label. <br><br>\n",
    "**Hint: For each task make sure to decide whether the label should be normalized or not.**<br><br>"
   ]
  },
  {
   "cell_type": "code",
   "execution_count": 1,
   "id": "c132db85",
   "metadata": {},
   "outputs": [],
   "source": [
    "%load_ext autoreload\n",
    "%autoreload 2"
   ]
  },
  {
   "cell_type": "code",
   "execution_count": 3,
   "id": "69b52c03",
   "metadata": {},
   "outputs": [],
   "source": [
    "import torch\n",
    "from test import evaluate_test_set\n",
    "import sts_data\n",
    "import siamese_lstm_attention\n",
    "import train\n",
    "import test\n",
    "from importlib import reload"
   ]
  },
  {
   "cell_type": "markdown",
   "id": "22d3a701",
   "metadata": {},
   "source": [
    "## Part 1. Data pipeline (3 points)\n",
    "Before starting working on the model, we must configure the data pipeline to load the data in the correct format. Please, implement the functions for processing the data."
   ]
  },
  {
   "cell_type": "markdown",
   "id": "9af7f4ee",
   "metadata": {},
   "source": [
    "### Part 1.1 Loading and preprocessing the data (1 point)\n",
    "Download the SICK dataset and store it in [pandas](https://pandas.pydata.org/docs/index.html) `Dataframe`'s. You should use the official data split.  \n",
    "\n",
    "Implement `load_data` method of `STSData` class in `sts_data.py`. The method must download the dataset and perform basic preprocessing. Minimal preprocessing required:  \n",
    "1. normalize text to lower case\n",
    "2. remove punctuations  \n",
    "3. remove [stopwords](https://en.wikipedia.org/wiki/Stop_word) - we provided you with the list of English stopwords.\n",
    "4. Optionally, any other preprocessing that you deem necessary.\n",
    "\n",
    "All the preprocessing code must be contained in the `preprocessing.py` file.  \n",
    "You can use Hugginface's [datasets library](https://huggingface.co/docs/datasets/) for easy dataset download."
   ]
  },
  {
   "cell_type": "markdown",
   "id": "fd87f192",
   "metadata": {},
   "source": [
    "### Part 1.2 Building vocabulary (1 point)\n",
    "Before we can feed our text to the model it must be vectorized. We use 300 dimensional pretrained [FastText embeddings](https://fasttext.cc/docs/en/english-vectors.html) for mapping words to vectors. To know more general information about embeddings you can refer to [this video](https://www.youtube.com/watch?v=ERibwqs9p38) (even though, we use different types of embeddings - FastText vs Word2Vec described in the video - the general purpose of them is the same).  \n",
    "In order to apply the embedding, we must first construct the vocabulary for data. Complete the `create_vocab` method of `STSData` class in `sts_data.py` where you concatenate each sentence pair, tokenize it and construct the vocabulary for the whole training data. You should use [torchtext](https://torchtext.readthedocs.io/en/latest/data.html\n",
    ") for processing the data. For tokenization, you can use any library (or write your own tokenizer), but we recommend you to use tokenizer by [spacy](https://spacy.io/). Use the `fasttext.simple.300d` as pretrained vectors.  \n",
    "In the end, you must have a vocabulary object capable of mapping your input to corresponding vectors. Remember that the vocabulary is created using only training data (not touching validation or test data)."
   ]
  },
  {
   "cell_type": "markdown",
   "id": "6b90724d",
   "metadata": {},
   "source": [
    "### Part 1.3 Creating DataLoader (1 point)\n",
    "Implement `get_data_loader` method of `STSData` class in `sts_data.py`. It must perform the following operations on each of the data splits:\n",
    "1. vectorize each pair of the sentences by replacing all tokens with their index in vocabulary\n",
    "2. normalize labels\n",
    "3. convert everything to PyTorch tensors\n",
    "4. pad every sentence so that all of them have the same length\n",
    "5. create `STSDataset` from `dataset.py`\n",
    "6. create PyTorch DataLoader out of the created dataset. \n",
    "\n",
    "\n",
    "We have provided you with the interfaces of possible helper functions, but you can change them as you need.   \n",
    "In the end, you must have 3 data loaders for each of the splits."
   ]
  },
  {
   "cell_type": "code",
   "execution_count": 5,
   "id": "62b40225",
   "metadata": {
    "scrolled": true
   },
   "outputs": [
    {
     "name": "stderr",
     "output_type": "stream",
     "text": [
      "INFO:root:loading and preprocessing data...\n",
      "WARNING:datasets.builder:Using custom data configuration default\n",
      "WARNING:datasets.builder:Reusing dataset sick (C:\\Users\\DELL\\.cache\\huggingface\\datasets\\sick\\default\\0.0.0\\c6b3b0b44eb84b134851396d6d464e5cb8f026960519d640e087fe33472626db)\n",
      "INFO:root:reading and preprocessing data completed...\n",
      "INFO:root:creating vocabulary...\n",
      "INFO:torchtext.vocab:Loading vectors from .vector_cache\\wiki.simple.vec.pt\n",
      "INFO:root:creating vocabulary completed...\n"
     ]
    }
   ],
   "source": [
    "reload(sts_data)\n",
    "from sts_data import STSData\n",
    "\n",
    "columns_mapping = {\n",
    "        \"sent1\": \"sentence_A\",\n",
    "        \"sent2\": \"sentence_B\",\n",
    "        \"label\": \"relatedness_score\",\n",
    "    }\n",
    "dataset_name = \"sick\"\n",
    "sick_data = STSData(\n",
    "    dataset_name=dataset_name,\n",
    "    columns_mapping=columns_mapping,\n",
    "    normalize_labels=True,\n",
    "    normalization_const=5.0,\n",
    ")\n",
    "batch_size = 64\n",
    "sick_dataloaders = sick_data.get_data_loader(batch_size=batch_size)"
   ]
  },
  {
   "cell_type": "markdown",
   "id": "b98c6526",
   "metadata": {},
   "source": [
    "## Part 2. Model Configuration & Hyperparameter Tuning (3 points)\n",
    "In this part, you are required to define a model capable of learning self-attentive sentence embeddings described in [this ICLR paper](https://arxiv.org/pdf/1703.03130.pdf). The sentence embedding learned by this model will be used for computing the similarity score instead of the simpler embeddings described in the original AAAI paper.  \n",
    "Please familiarize yourself with the model described in the ICLR paper and implement `SiameseBiLSTMAttention` and `SelfAttention` classes in `siamese_lstm_attention.py`. Remember that you must run the model on each sentence in the sentence pair to calculate the similarity between them. You can use `similarity_score` from `utils.py` to compute the similarity score between two sentences. \n",
    "  \n",
    "To get more theoretical information about attention mechanisms you can refer to [this chapter](https://web.stanford.edu/~jurafsky/slp3/10.pdf) of [\"Speech and Language Processing\" book](https://web.stanford.edu/~jurafsky/slp3/) by Dan Jurafsky and James H. Martin, where the attention mechanism is described in the context of the machine translation task. \n",
    "\n",
    "Finally, once your implementation works on the default parameters stated below, make sure to perform **hyperparameter tuning** to find the best combination of hyperparameters."
   ]
  },
  {
   "cell_type": "code",
   "execution_count": 48,
   "id": "a530ec28",
   "metadata": {},
   "outputs": [],
   "source": [
    "output_size = 1\n",
    "hidden_size = 256\n",
    "vocab_size = len(sick_data.vocab)\n",
    "embedding_size = 300\n",
    "embedding_weights = sick_data.vocab.vectors\n",
    "lstm_layers = 4\n",
    "learning_rate = 1e-2\n",
    "fc_hidden_size = 1024\n",
    "max_epochs = 5\n",
    "bidirectional = True\n",
    "device = torch.device(\"cuda:0\" if torch.cuda.is_available() else \"cpu\")\n",
    "## self attention config\n",
    "self_attention_config = {\n",
    "    \"hidden_size\": 350,  ## refers to variable 'da' in the ICLR paper\n",
    "    \"output_size\": 30,  ## refers to variable 'r' in the ICLR paper\n",
    "    \"penalty\": 1,  ## refers to penalty coefficient term in the ICLR paper\n",
    "}"
   ]
  },
  {
   "cell_type": "code",
   "execution_count": 49,
   "id": "a879b228",
   "metadata": {},
   "outputs": [
    {
     "name": "stdout",
     "output_type": "stream",
     "text": [
      "300\n"
     ]
    },
    {
     "name": "stderr",
     "output_type": "stream",
     "text": [
      "C:\\Users\\DELL\\Desktop\\NNTI\\nlp_project\\task1\\siamese_lstm_attention.py:67: UserWarning: nn.init.xavier_uniform is now deprecated in favor of nn.init.xavier_uniform_.\n",
      "  torch.nn.init.xavier_uniform(self.W_s1.weight)\n",
      "C:\\Users\\DELL\\Desktop\\NNTI\\nlp_project\\task1\\siamese_lstm_attention.py:69: UserWarning: nn.init.xavier_uniform is now deprecated in favor of nn.init.xavier_uniform_.\n",
      "  torch.nn.init.xavier_uniform(self.W_s2.weight)\n",
      "C:\\Users\\DELL\\Desktop\\NNTI\\nlp_project\\task1\\siamese_lstm_attention.py:72: UserWarning: nn.init.xavier_uniform is now deprecated in favor of nn.init.xavier_uniform_.\n",
      "  torch.nn.init.xavier_uniform(self.fc_layer.weight)\n"
     ]
    },
    {
     "data": {
      "text/plain": [
       "SiameseBiLSTMAttention(\n",
       "  (embeddings): Embedding(2052, 300)\n",
       "  (bilstm): LSTM(300, 256, num_layers=4, bidirectional=True)\n",
       "  (W_s1): Linear(in_features=512, out_features=350, bias=True)\n",
       "  (W_s2): Linear(in_features=350, out_features=30, bias=True)\n",
       "  (fc_layer): Linear(in_features=15360, out_features=1024, bias=True)\n",
       ")"
      ]
     },
     "execution_count": 49,
     "metadata": {},
     "output_type": "execute_result"
    }
   ],
   "source": [
    "#reload(siamese_lstm_attention)\n",
    "from siamese_lstm_attention import SiameseBiLSTMAttention\n",
    "## init siamese lstm\n",
    "siamese_lstm_attention_model = SiameseBiLSTMAttention(\n",
    "    batch_size=batch_size,\n",
    "    output_size=output_size,\n",
    "    hidden_size=hidden_size,\n",
    "    vocab_size=vocab_size,\n",
    "    embedding_size=embedding_size,\n",
    "    embedding_weights=embedding_weights,\n",
    "    lstm_layers=lstm_layers,\n",
    "    self_attention_config=self_attention_config,\n",
    "    fc_hidden_size=fc_hidden_size,\n",
    "    device=device,\n",
    "    bidirectional=bidirectional,\n",
    ")\n",
    "## move model to device\n",
    "siamese_lstm_attention_model.to(device)"
   ]
  },
  {
   "cell_type": "markdown",
   "id": "99b100de",
   "metadata": {},
   "source": [
    "## Part 3. Training (2 points)  \n",
    "Perform the final training of the model by implementing functions in `train.py` after setting values of your best-chosen hyperparameters. Note you can use the same training function when performing hyperparameter tuning.\n",
    "- **What is a good choice of performance metric here for evaluating your model?** [Max 2-3 lines]\n",
    "- **What other performance evaluation metric can we use here for this task? Motivate your answer.**[Max 2-3 lines]"
   ]
  },
  {
   "cell_type": "code",
   "execution_count": 50,
   "id": "da5a31ce",
   "metadata": {
    "scrolled": false
   },
   "outputs": [
    {
     "name": "stderr",
     "output_type": "stream",
     "text": [
      "\r",
      "  0%|                                                                                            | 0/5 [00:00<?, ?it/s]"
     ]
    },
    {
     "name": "stdout",
     "output_type": "stream",
     "text": [
      "Running EPOCH 1\n",
      "Running loss:  11.384491634368896\n",
      "Training set accuracy: 0.5808462861925363\n",
      "Running loss:  11.147420024871826\n",
      "Training set accuracy: 0.7710365246981382\n",
      "Running loss:  10.833740234375\n",
      "Training set accuracy: 0.941816332936287\n",
      "Running loss:  10.64198179244995\n",
      "Training set accuracy: 0.9463532537221908\n",
      "Running loss:  10.370060920715332\n",
      "Training set accuracy: 0.953131376951933\n",
      "Running loss:  10.058574867248534\n",
      "Training set accuracy: 0.9604000316932797\n"
     ]
    },
    {
     "name": "stderr",
     "output_type": "stream",
     "text": [
      "INFO:root:Evaluating accuracy on dev set\n"
     ]
    },
    {
     "name": "stdout",
     "output_type": "stream",
     "text": [
      "Evaluating validation set ....\n",
      "Validation loss: 9.756\n",
      "Validation set accuracy: 0.959\n",
      "Validation loss: 9.755\n",
      "Validation set accuracy: 0.961\n",
      "Validation loss: 9.755\n",
      "Validation set accuracy: 0.960\n",
      "Validation loss: 9.756\n",
      "Validation set accuracy: 0.960\n",
      "Validation loss: 9.761\n",
      "Validation set accuracy: 0.954\n",
      "Validation loss: 9.763\n",
      "Validation set accuracy: 0.951\n"
     ]
    },
    {
     "name": "stderr",
     "output_type": "stream",
     "text": [
      "INFO:root:new model saved\n"
     ]
    },
    {
     "name": "stdout",
     "output_type": "stream",
     "text": [
      "Validation loss: 9.756\n",
      "Validation set accuracy: 0.956\n"
     ]
    },
    {
     "name": "stderr",
     "output_type": "stream",
     "text": [
      "INFO:root:Train loss: 10.61784553527832 - acc: 0.8715602141953465 -- Validation loss: 9.755903244018555 - acc: 0.9573043526283332\n",
      " 20%|████████████████▌                                                                  | 1/5 [05:44<22:59, 344.82s/it]"
     ]
    },
    {
     "name": "stdout",
     "output_type": "stream",
     "text": [
      "Finished Training\n",
      "Running EPOCH 2\n",
      "Running loss:  9.511654949188232\n",
      "Training set accuracy: 0.9640319215133786\n",
      "Running loss:  9.088527393341064\n",
      "Training set accuracy: 0.964389693364501\n",
      "Running loss:  9.480271339416504\n",
      "Training set accuracy: 0.9517931638285517\n",
      "Running loss:  8.932265758514404\n",
      "Training set accuracy: 0.9578387599438429\n",
      "Running loss:  8.651158905029297\n",
      "Training set accuracy: 0.9587541466578842\n",
      "Running loss:  8.320283126831054\n",
      "Training set accuracy: 0.9624825693666935\n"
     ]
    },
    {
     "name": "stderr",
     "output_type": "stream",
     "text": [
      "INFO:root:Evaluating accuracy on dev set\n"
     ]
    },
    {
     "name": "stdout",
     "output_type": "stream",
     "text": [
      "Evaluating validation set ....\n",
      "Validation loss: 8.210\n",
      "Validation set accuracy: 0.955\n",
      "Validation loss: 8.216\n",
      "Validation set accuracy: 0.949\n",
      "Validation loss: 8.208\n",
      "Validation set accuracy: 0.957\n",
      "Validation loss: 8.200\n",
      "Validation set accuracy: 0.965\n",
      "Validation loss: 8.208\n",
      "Validation set accuracy: 0.957\n",
      "Validation loss: 8.210\n",
      "Validation set accuracy: 0.956\n"
     ]
    },
    {
     "name": "stderr",
     "output_type": "stream",
     "text": [
      "INFO:root:new model saved\n"
     ]
    },
    {
     "name": "stdout",
     "output_type": "stream",
     "text": [
      "Validation loss: 8.195\n",
      "Validation set accuracy: 0.978\n"
     ]
    },
    {
     "name": "stderr",
     "output_type": "stream",
     "text": [
      "INFO:root:Train loss: 8.894986152648926 - acc: 0.9605846849904545 -- Validation loss: 8.194538116455078 - acc: 0.9595961552113295\n",
      " 40%|█████████████████████████████████▏                                                 | 2/5 [11:31<17:16, 345.36s/it]"
     ]
    },
    {
     "name": "stdout",
     "output_type": "stream",
     "text": [
      "Finished Training\n",
      "Running EPOCH 3\n",
      "Running loss:  8.161473751068115\n",
      "Training set accuracy: 0.9663184307515621\n",
      "Running loss:  8.122446823120118\n",
      "Training set accuracy: 0.9689879164099693\n",
      "Running loss:  8.104555320739745\n",
      "Training set accuracy: 0.9690468534827232\n",
      "Running loss:  8.087018299102784\n",
      "Training set accuracy: 0.9690792009234428\n",
      "Running loss:  8.067243289947509\n",
      "Training set accuracy: 0.9686214379966259\n",
      "Running loss:  8.06061315536499\n",
      "Training set accuracy: 0.9655605919659138\n"
     ]
    },
    {
     "name": "stderr",
     "output_type": "stream",
     "text": [
      "INFO:root:Evaluating accuracy on dev set\n"
     ]
    },
    {
     "name": "stdout",
     "output_type": "stream",
     "text": [
      "Evaluating validation set ....\n",
      "Validation loss: 8.056\n",
      "Validation set accuracy: 0.966\n",
      "Validation loss: 8.049\n",
      "Validation set accuracy: 0.973\n",
      "Validation loss: 8.056\n",
      "Validation set accuracy: 0.965\n",
      "Validation loss: 8.061\n",
      "Validation set accuracy: 0.961\n",
      "Validation loss: 8.049\n",
      "Validation set accuracy: 0.973\n",
      "Validation loss: 8.059\n",
      "Validation set accuracy: 0.963\n"
     ]
    },
    {
     "name": "stderr",
     "output_type": "stream",
     "text": [
      "INFO:root:new model saved\n"
     ]
    },
    {
     "name": "stdout",
     "output_type": "stream",
     "text": [
      "Validation loss: 8.041\n",
      "Validation set accuracy: 0.980\n"
     ]
    },
    {
     "name": "stderr",
     "output_type": "stream",
     "text": [
      "INFO:root:Train loss: 8.094213485717773 - acc: 0.9683446197406105 -- Validation loss: 8.041289329528809 - acc: 0.9687460120767355\n",
      " 60%|█████████████████████████████████████████████████▊                                 | 3/5 [17:26<11:36, 348.26s/it]"
     ]
    },
    {
     "name": "stdout",
     "output_type": "stream",
     "text": [
      "Finished Training\n",
      "Running EPOCH 4\n",
      "Running loss:  8.04365701675415\n",
      "Training set accuracy: 0.975509144179523\n",
      "Running loss:  8.045783710479736\n",
      "Training set accuracy: 0.9697848709300161\n",
      "Running loss:  8.035254192352294\n",
      "Training set accuracy: 0.9762087542563677\n",
      "Running loss:  8.034348392486573\n",
      "Training set accuracy: 0.9733700772747398\n",
      "Running loss:  8.030977725982666\n",
      "Training set accuracy: 0.9742924038320779\n",
      "Running loss:  8.031161022186279\n",
      "Training set accuracy: 0.9749891463667154\n"
     ]
    },
    {
     "name": "stderr",
     "output_type": "stream",
     "text": [
      "INFO:root:Evaluating accuracy on dev set\n"
     ]
    },
    {
     "name": "stdout",
     "output_type": "stream",
     "text": [
      "Evaluating validation set ....\n",
      "Validation loss: 8.031\n",
      "Validation set accuracy: 0.972\n",
      "Validation loss: 8.034\n",
      "Validation set accuracy: 0.969\n",
      "Validation loss: 8.035\n",
      "Validation set accuracy: 0.968\n",
      "Validation loss: 8.034\n",
      "Validation set accuracy: 0.968\n",
      "Validation loss: 8.029\n",
      "Validation set accuracy: 0.973\n",
      "Validation loss: 8.034\n",
      "Validation set accuracy: 0.969\n"
     ]
    },
    {
     "name": "stderr",
     "output_type": "stream",
     "text": [
      "INFO:root:new model saved\n"
     ]
    },
    {
     "name": "stdout",
     "output_type": "stream",
     "text": [
      "Validation loss: 8.019\n",
      "Validation set accuracy: 0.983\n"
     ]
    },
    {
     "name": "stderr",
     "output_type": "stream",
     "text": [
      "INFO:root:Train loss: 8.035984992980957 - acc: 0.9740953121496283 -- Validation loss: 8.019402503967285 - acc: 0.9717866685241461\n",
      " 80%|██████████████████████████████████████████████████████████████████▍                | 4/5 [23:17<05:49, 349.07s/it]"
     ]
    },
    {
     "name": "stdout",
     "output_type": "stream",
     "text": [
      "Finished Training\n",
      "Running EPOCH 5\n",
      "Running loss:  8.025213527679444\n",
      "Training set accuracy: 0.9767908871173858\n",
      "Running loss:  8.023203659057618\n",
      "Training set accuracy: 0.9779900879599154\n",
      "Running loss:  8.024989700317382\n",
      "Training set accuracy: 0.976160966604948\n",
      "Running loss:  8.0289457321167\n",
      "Training set accuracy: 0.9728824308142066\n",
      "Running loss:  8.028114509582519\n",
      "Training set accuracy: 0.9742569733411074\n",
      "Running loss:  8.026698970794678\n",
      "Training set accuracy: 0.9749311190098524\n"
     ]
    },
    {
     "name": "stderr",
     "output_type": "stream",
     "text": [
      "INFO:root:Evaluating accuracy on dev set\n"
     ]
    },
    {
     "name": "stdout",
     "output_type": "stream",
     "text": [
      "Evaluating validation set ....\n",
      "Validation loss: 8.032\n",
      "Validation set accuracy: 0.971\n",
      "Validation loss: 8.032\n",
      "Validation set accuracy: 0.971\n",
      "Validation loss: 8.037\n",
      "Validation set accuracy: 0.966\n",
      "Validation loss: 8.035\n",
      "Validation set accuracy: 0.968\n",
      "Validation loss: 8.027\n",
      "Validation set accuracy: 0.976\n",
      "Validation loss: 8.033\n",
      "Validation set accuracy: 0.971\n"
     ]
    },
    {
     "name": "stderr",
     "output_type": "stream",
     "text": [
      "INFO:root:new model saved\n"
     ]
    },
    {
     "name": "stdout",
     "output_type": "stream",
     "text": [
      "Validation loss: 8.023\n",
      "Validation set accuracy: 0.980\n"
     ]
    },
    {
     "name": "stderr",
     "output_type": "stream",
     "text": [
      "INFO:root:Train loss: 8.026457786560059 - acc: 0.9752995442410094 -- Validation loss: 8.023056983947754 - acc: 0.972019100561738\n",
      "100%|███████████████████████████████████████████████████████████████████████████████████| 5/5 [28:55<00:00, 347.01s/it]"
     ]
    },
    {
     "name": "stdout",
     "output_type": "stream",
     "text": [
      "Finished Training\n"
     ]
    },
    {
     "name": "stderr",
     "output_type": "stream",
     "text": [
      "\n"
     ]
    }
   ],
   "source": [
    "reload(train)\n",
    "from train import train_model\n",
    "import torch.optim as optim\n",
    "\n",
    "\n",
    "optimizer = torch.optim.Adam(siamese_lstm_attention_model.parameters(), lr=learning_rate, betas=(0.9, 0.98))\n",
    "\n",
    "siamese_lstm_attention = train_model(\n",
    "    model=siamese_lstm_attention_model,\n",
    "    optimizer=optimizer,\n",
    "    dataloader=sick_dataloaders,\n",
    "    data=sick_data,\n",
    "    max_epochs=max_epochs,\n",
    "    config_dict={\n",
    "        \"device\": device,\n",
    "        \"model_name\": \"siamese_lstm_attention\",\n",
    "        \"self_attention_config\": self_attention_config,\n",
    "    },\n",
    ")"
   ]
  },
  {
   "cell_type": "markdown",
   "id": "47fe9cef",
   "metadata": {},
   "source": [
    "## Part 4. Evaluation and Analysis (2 points)  \n",
    "Implement function evaluate_test_set to calculate the final accuracy of the performance evaluation metric on the test data.  \n",
    "Compare the result with the original AAAI paper. Сomment on effect of penalty loss on model capacity. Did the inclusion of the self-attention block improve the results? If yes, then how? Can you think of additional techniques to improve the results? Briefly answer these questions in the markdown cells."
   ]
  },
  {
   "cell_type": "code",
   "execution_count": 52,
   "id": "143154f6",
   "metadata": {
    "scrolled": true
   },
   "outputs": [
    {
     "name": "stderr",
     "output_type": "stream",
     "text": [
      "INFO:root:Evaluating accuracy on test set\n",
      "INFO:root:Evaluating accuracy on test set\n"
     ]
    },
    {
     "name": "stdout",
     "output_type": "stream",
     "text": [
      "Finished testing..............\n",
      "Total test set accuracy: 0.457\n"
     ]
    }
   ],
   "source": [
    "reload(test)\n",
    "evaluate_test_set(\n",
    "    model=siamese_lstm_attention_model,\n",
    "    data_loader=sick_dataloaders,\n",
    "    config_dict={\n",
    "        \"device\": device,\n",
    "        \"model_name\": \"siamese_lstm_attention\",\n",
    "        \"self_attention_config\": self_attention_config,\n",
    "    },\n",
    ")\n",
    "\n"
   ]
  }
 ],
 "metadata": {
  "kernelspec": {
   "display_name": "Python 3 (ipykernel)",
   "language": "python",
   "name": "python3"
  },
  "language_info": {
   "codemirror_mode": {
    "name": "ipython",
    "version": 3
   },
   "file_extension": ".py",
   "mimetype": "text/x-python",
   "name": "python",
   "nbconvert_exporter": "python",
   "pygments_lexer": "ipython3",
   "version": "3.7.11"
  }
 },
 "nbformat": 4,
 "nbformat_minor": 5
}
