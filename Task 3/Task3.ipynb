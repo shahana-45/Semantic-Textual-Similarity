{
 "cells": [
  {
   "cell_type": "code",
   "execution_count": 1,
   "id": "c132db85",
   "metadata": {},
   "outputs": [],
   "source": [
    "%load_ext autoreload\n",
    "%autoreload 2"
   ]
  },
  {
   "cell_type": "code",
   "execution_count": 4,
   "id": "69b52c03",
   "metadata": {},
   "outputs": [],
   "source": [
    "import torch\n",
    "from test import evaluate_test_set\n",
    "import sts_data\n",
    "import siamese_dan\n",
    "import train\n",
    "import test\n",
    "from importlib import reload"
   ]
  },
  {
   "cell_type": "markdown",
   "id": "61ae7cf8",
   "metadata": {},
   "source": [
    "### Data Preprocessing"
   ]
  },
  {
   "cell_type": "code",
   "execution_count": 5,
   "id": "62b40225",
   "metadata": {
    "scrolled": true
   },
   "outputs": [
    {
     "name": "stderr",
     "output_type": "stream",
     "text": [
      "INFO:root:loading and preprocessing data...\n",
      "WARNING:datasets.builder:Using custom data configuration default\n",
      "WARNING:datasets.builder:Reusing dataset sick (C:\\Users\\DELL\\.cache\\huggingface\\datasets\\sick\\default\\0.0.0\\c6b3b0b44eb84b134851396d6d464e5cb8f026960519d640e087fe33472626db)\n",
      "INFO:root:reading and preprocessing data completed...\n",
      "INFO:root:creating vocabulary...\n",
      "INFO:torchtext.vocab:Loading vectors from .vector_cache\\wiki.simple.vec.pt\n",
      "INFO:root:creating vocabulary completed...\n"
     ]
    }
   ],
   "source": [
    "reload(sts_data)\n",
    "from sts_data import STSData\n",
    "\n",
    "columns_mapping = {\n",
    "        \"sent1\": \"sentence_A\",\n",
    "        \"sent2\": \"sentence_B\",\n",
    "        \"label\": \"relatedness_score\",\n",
    "    }\n",
    "dataset_name = \"sick\"\n",
    "sick_data = STSData(\n",
    "    dataset_name=dataset_name,\n",
    "    columns_mapping=columns_mapping,\n",
    "    normalize_labels=True,\n",
    "    normalization_const=5.0,\n",
    ")\n",
    "batch_size = 64\n",
    "sick_dataloaders = sick_data.get_data_loader(batch_size=batch_size)"
   ]
  },
  {
   "cell_type": "markdown",
   "id": "12a2db9c",
   "metadata": {},
   "source": [
    "### Hyperparameter initialisation and tuning"
   ]
  },
  {
   "cell_type": "code",
   "execution_count": 6,
   "id": "a530ec28",
   "metadata": {},
   "outputs": [],
   "source": [
    "## initialise final tuned hyperparameters\n",
    "vocab_size = len(sick_data.vocab)\n",
    "embedding_size = 300\n",
    "embedding_weights = sick_data.vocab.vectors\n",
    "learning_rate = 1e-2\n",
    "max_epochs = 5\n",
    "device = torch.device(\"cuda:0\" if torch.cuda.is_available() else \"cpu\")\n"
   ]
  },
  {
   "cell_type": "markdown",
   "id": "1a47ecd6",
   "metadata": {},
   "source": [
    "### Train a Siamese Deep Averaging Network (DAN) model"
   ]
  },
  {
   "cell_type": "code",
   "execution_count": 14,
   "id": "a879b228",
   "metadata": {},
   "outputs": [
    {
     "data": {
      "text/plain": [
       "SiameseDAN(\n",
       "  (embeddings): Embedding(2052, 300)\n",
       "  (linear_1): Linear(in_features=300, out_features=128, bias=True)\n",
       "  (linear_2): Linear(in_features=128, out_features=64, bias=True)\n",
       "  (linear_3): Linear(in_features=64, out_features=32, bias=True)\n",
       "  (linear_4): Linear(in_features=32, out_features=16, bias=True)\n",
       "  (linear_5): Linear(in_features=16, out_features=8, bias=True)\n",
       ")"
      ]
     },
     "execution_count": 14,
     "metadata": {},
     "output_type": "execute_result"
    }
   ],
   "source": [
    "#reload(deep_avg_nw)\n",
    "\n",
    "from siamese_dan import SiameseDAN\n",
    "siamese_dan_model = SiameseDAN(\n",
    "    batch_size=batch_size,\n",
    "    vocab_size=vocab_size,\n",
    "    embedding_size=embedding_size,\n",
    "    embedding_weights=embedding_weights,\n",
    "    device=device,\n",
    ")\n",
    "## move model to device\n",
    "siamese_dan_model.to(device)"
   ]
  },
  {
   "cell_type": "code",
   "execution_count": 15,
   "id": "da5a31ce",
   "metadata": {
    "scrolled": true
   },
   "outputs": [
    {
     "name": "stderr",
     "output_type": "stream",
     "text": [
      "\r",
      "  0%|                                                                                            | 0/5 [00:00<?, ?it/s]"
     ]
    },
    {
     "name": "stdout",
     "output_type": "stream",
     "text": [
      "Running EPOCH 1\n",
      "Running loss:  0.08791243582963944\n",
      "Training set accuracy: 0.9120875656604767\n",
      "Running loss:  0.06105341725051403\n",
      "Training set accuracy: 0.9389465834945441\n",
      "Running loss:  0.051468998193740845\n",
      "Training set accuracy: 0.9485310014337301\n",
      "Running loss:  0.043895182013511655\n",
      "Training set accuracy: 0.9561048176139593\n",
      "Running loss:  0.04205652084201574\n",
      "Training set accuracy: 0.9579434793442487\n",
      "Running loss:  0.03931999020278454\n",
      "Training set accuracy: 0.9606800097972155\n"
     ]
    },
    {
     "name": "stderr",
     "output_type": "stream",
     "text": [
      "INFO:root:Evaluating accuracy on dev set\n"
     ]
    },
    {
     "name": "stdout",
     "output_type": "stream",
     "text": [
      "Evaluating validation set ....\n",
      "Validation loss: 0.038\n",
      "Validation set accuracy: 0.962\n",
      "Validation loss: 0.041\n",
      "Validation set accuracy: 0.959\n",
      "Validation loss: 0.040\n",
      "Validation set accuracy: 0.960\n",
      "Validation loss: 0.044\n",
      "Validation set accuracy: 0.956\n",
      "Validation loss: 0.038\n",
      "Validation set accuracy: 0.962\n"
     ]
    },
    {
     "name": "stderr",
     "output_type": "stream",
     "text": [
      "INFO:root:new model saved\n",
      "INFO:root:Train loss: 0.05236326903104782 - acc: 0.9476367320487464 -- Validation loss: 0.030444644391536713 - acc: 0.9625064182494368\n",
      " 20%|████████████████▊                                                                   | 1/5 [00:02<00:11,  2.83s/it]"
     ]
    },
    {
     "name": "stdout",
     "output_type": "stream",
     "text": [
      "Validation loss: 0.032\n",
      "Validation set accuracy: 0.968\n",
      "Validation loss: 0.030\n",
      "Validation set accuracy: 0.970\n",
      "Finished Training\n",
      "Running EPOCH 2\n",
      "Running loss:  0.03227730300277472\n",
      "Training set accuracy: 0.9677226977422834\n",
      "Running loss:  0.032437744364142415\n",
      "Training set accuracy: 0.9675622552633285\n",
      "Running loss:  0.03229008764028549\n",
      "Training set accuracy: 0.9677099140360952\n",
      "Running loss:  0.03083040229976177\n",
      "Training set accuracy: 0.9691695986315608\n",
      "Running loss:  0.033030600287020206\n",
      "Training set accuracy: 0.9669693997129798\n",
      "Running loss:  0.03551183231174946\n",
      "Training set accuracy: 0.9644881688058377\n"
     ]
    },
    {
     "name": "stderr",
     "output_type": "stream",
     "text": [
      "INFO:root:Evaluating accuracy on dev set\n"
     ]
    },
    {
     "name": "stdout",
     "output_type": "stream",
     "text": [
      "Evaluating validation set ....\n",
      "Validation loss: 0.026\n",
      "Validation set accuracy: 0.974\n",
      "Validation loss: 0.036\n",
      "Validation set accuracy: 0.964\n",
      "Validation loss: 0.038\n",
      "Validation set accuracy: 0.962\n",
      "Validation loss: 0.034\n",
      "Validation set accuracy: 0.966\n",
      "Validation loss: 0.032\n",
      "Validation set accuracy: 0.968\n",
      "Validation loss: 0.030\n",
      "Validation set accuracy: 0.970\n"
     ]
    },
    {
     "name": "stderr",
     "output_type": "stream",
     "text": [
      "INFO:root:new model saved\n",
      "INFO:root:Train loss: 0.0324363075196743 - acc: 0.9675636906986651 -- Validation loss: 0.026247471570968628 - acc: 0.9682045557669231\n",
      " 40%|█████████████████████████████████▌                                                  | 2/5 [00:05<00:08,  2.85s/it]"
     ]
    },
    {
     "name": "stdout",
     "output_type": "stream",
     "text": [
      "Validation loss: 0.026\n",
      "Validation set accuracy: 0.974\n",
      "Finished Training\n",
      "Running EPOCH 3\n",
      "Running loss:  0.024848736822605133\n",
      "Training set accuracy: 0.9751512637361884\n",
      "Running loss:  0.02753753010183573\n",
      "Training set accuracy: 0.9724624697118998\n",
      "Running loss:  0.03071925789117813\n",
      "Training set accuracy: 0.9692807413637639\n",
      "Running loss:  0.026398716680705547\n",
      "Training set accuracy: 0.9736012829467654\n",
      "Running loss:  0.027652000822126866\n",
      "Training set accuracy: 0.9723479982465506\n",
      "Running loss:  0.02964489087462425\n",
      "Training set accuracy: 0.9703551094979048\n"
     ]
    },
    {
     "name": "stderr",
     "output_type": "stream",
     "text": [
      "INFO:root:Evaluating accuracy on dev set\n"
     ]
    },
    {
     "name": "stdout",
     "output_type": "stream",
     "text": [
      "Evaluating validation set ....\n",
      "Validation loss: 0.025\n",
      "Validation set accuracy: 0.975\n",
      "Validation loss: 0.034\n",
      "Validation set accuracy: 0.966\n",
      "Validation loss: 0.035\n",
      "Validation set accuracy: 0.965\n",
      "Validation loss: 0.031\n",
      "Validation set accuracy: 0.969\n",
      "Validation loss: 0.035\n",
      "Validation set accuracy: 0.965\n",
      "Validation loss: 0.031\n",
      "Validation set accuracy: 0.969\n"
     ]
    },
    {
     "name": "stderr",
     "output_type": "stream",
     "text": [
      "INFO:root:new model saved\n",
      "INFO:root:Train loss: 0.028189506381750107 - acc: 0.971810492646435 -- Validation loss: 0.018739506602287292 - acc: 0.9700927178242377\n",
      " 60%|██████████████████████████████████████████████████▍                                 | 3/5 [00:08<00:05,  2.83s/it]"
     ]
    },
    {
     "name": "stdout",
     "output_type": "stream",
     "text": [
      "Validation loss: 0.019\n",
      "Validation set accuracy: 0.981\n",
      "Finished Training\n",
      "Running EPOCH 4\n",
      "Running loss:  0.028798578679561614\n",
      "Training set accuracy: 0.9712014202028513\n",
      "Running loss:  0.02426996547728777\n",
      "Training set accuracy: 0.97573003442958\n",
      "Running loss:  0.025085293874144553\n",
      "Training set accuracy: 0.9749147064983845\n",
      "Running loss:  0.025552907958626747\n",
      "Training set accuracy: 0.9744470920413733\n",
      "Running loss:  0.024340344406664372\n",
      "Training set accuracy: 0.9756596546620131\n",
      "Running loss:  0.02697857953608036\n",
      "Training set accuracy: 0.9730214199051261\n"
     ]
    },
    {
     "name": "stderr",
     "output_type": "stream",
     "text": [
      "INFO:root:Evaluating accuracy on dev set\n"
     ]
    },
    {
     "name": "stdout",
     "output_type": "stream",
     "text": [
      "Evaluating validation set ....\n",
      "Validation loss: 0.026\n",
      "Validation set accuracy: 0.974\n",
      "Validation loss: 0.030\n",
      "Validation set accuracy: 0.970\n",
      "Validation loss: 0.031\n",
      "Validation set accuracy: 0.969\n",
      "Validation loss: 0.028\n",
      "Validation set accuracy: 0.972\n",
      "Validation loss: 0.030\n",
      "Validation set accuracy: 0.970\n"
     ]
    },
    {
     "name": "stderr",
     "output_type": "stream",
     "text": [
      "INFO:root:new model saved\n",
      "INFO:root:Train loss: 0.026176396757364273 - acc: 0.9738236011775292 -- Validation loss: 0.013278643600642681 - acc: 0.973828983094011\n",
      " 80%|███████████████████████████████████████████████████████████████████▏                | 4/5 [00:11<00:02,  2.84s/it]"
     ]
    },
    {
     "name": "stdout",
     "output_type": "stream",
     "text": [
      "Validation loss: 0.024\n",
      "Validation set accuracy: 0.976\n",
      "Validation loss: 0.013\n",
      "Validation set accuracy: 0.987\n",
      "Finished Training\n",
      "Running EPOCH 5\n",
      "Running loss:  0.022468891367316245\n",
      "Training set accuracy: 0.9775311090052128\n",
      "Running loss:  0.02257870975881815\n",
      "Training set accuracy: 0.9774212902411819\n",
      "Running loss:  0.024132957868278026\n",
      "Training set accuracy: 0.975867042504251\n",
      "Running loss:  0.024064053688198327\n",
      "Training set accuracy: 0.9759359462186694\n",
      "Running loss:  0.02322063222527504\n",
      "Training set accuracy: 0.976779367774725\n",
      "Running loss:  0.02433588244020939\n",
      "Training set accuracy: 0.9756641170009971\n"
     ]
    },
    {
     "name": "stderr",
     "output_type": "stream",
     "text": [
      "INFO:root:Evaluating accuracy on dev set\n"
     ]
    },
    {
     "name": "stdout",
     "output_type": "stream",
     "text": [
      "Evaluating validation set ....\n",
      "Validation loss: 0.024\n",
      "Validation set accuracy: 0.976\n",
      "Validation loss: 0.031\n",
      "Validation set accuracy: 0.969\n",
      "Validation loss: 0.034\n",
      "Validation set accuracy: 0.966\n",
      "Validation loss: 0.029\n",
      "Validation set accuracy: 0.971\n",
      "Validation loss: 0.029\n",
      "Validation set accuracy: 0.971\n"
     ]
    },
    {
     "name": "stderr",
     "output_type": "stream",
     "text": [
      "INFO:root:Train loss: 0.02354118414223194 - acc: 0.9764588141840869 -- Validation loss: 0.018343064934015274 - acc: 0.9728157001414469\n",
      "100%|████████████████████████████████████████████████████████████████████████████████████| 5/5 [00:14<00:00,  2.87s/it]"
     ]
    },
    {
     "name": "stdout",
     "output_type": "stream",
     "text": [
      "Validation loss: 0.025\n",
      "Validation set accuracy: 0.975\n",
      "Validation loss: 0.018\n",
      "Validation set accuracy: 0.982\n",
      "Finished Training\n"
     ]
    },
    {
     "name": "stderr",
     "output_type": "stream",
     "text": [
      "\n"
     ]
    }
   ],
   "source": [
    "reload(train)\n",
    "from train import train_model\n",
    "import torch.optim as optim\n",
    "\n",
    "\n",
    "optimizer = torch.optim.Adam(siamese_dan_model.parameters(), lr=learning_rate, betas=(0.9, 0.98))\n",
    "\n",
    "siamese_dan = train_model(\n",
    "    model=siamese_dan_model,\n",
    "    optimizer=optimizer,\n",
    "    dataloader=sick_dataloaders,\n",
    "    data=sick_data,\n",
    "    max_epochs=max_epochs,\n",
    "    config_dict={\n",
    "        \"device\": device,\n",
    "        \"model_name\": \"siamese_dan\",\n",
    "    },\n",
    ")"
   ]
  },
  {
   "cell_type": "markdown",
   "id": "000d814d",
   "metadata": {},
   "source": [
    "### Compute test set accuracy"
   ]
  },
  {
   "cell_type": "code",
   "execution_count": 16,
   "id": "143154f6",
   "metadata": {
    "scrolled": true
   },
   "outputs": [
    {
     "name": "stderr",
     "output_type": "stream",
     "text": [
      "INFO:root:Evaluating accuracy on test set\n",
      "INFO:root:Evaluating accuracy on test set\n"
     ]
    },
    {
     "name": "stdout",
     "output_type": "stream",
     "text": [
      "Finished testing..............\n",
      "Total test set accuracy: 0.972\n"
     ]
    }
   ],
   "source": [
    "reload(test)\n",
    "evaluate_test_set(\n",
    "    model=siamese_dan,\n",
    "    data_loader=sick_dataloaders,\n",
    "    config_dict={\n",
    "        \"device\": device,\n",
    "        \"model_name\": \"siamese_dan\",\n",
    "    },\n",
    ")\n",
    "\n"
   ]
  },
  {
   "cell_type": "markdown",
   "id": "a363cb07",
   "metadata": {},
   "source": [
    "### Code References\n",
    "\n",
    "1. DAN code reference - https://www.kaggle.com/bobazooba/pytorch-deep-average-network-as-baseline/\n",
    "2. Universal Sentence Encoder (DAN variant) - https://arxiv.org/pdf/1803.11175.pdf"
   ]
  }
 ],
 "metadata": {
  "kernelspec": {
   "display_name": "Python 3 (ipykernel)",
   "language": "python",
   "name": "python3"
  },
  "language_info": {
   "codemirror_mode": {
    "name": "ipython",
    "version": 3
   },
   "file_extension": ".py",
   "mimetype": "text/x-python",
   "name": "python",
   "nbconvert_exporter": "python",
   "pygments_lexer": "ipython3",
   "version": "3.7.11"
  }
 },
 "nbformat": 4,
 "nbformat_minor": 5
}
